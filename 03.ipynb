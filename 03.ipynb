{
  "nbformat": 4,
  "nbformat_minor": 0,
  "metadata": {
    "colab": {
      "name": "03.ipynb",
      "provenance": [],
      "collapsed_sections": [],
      "authorship_tag": "ABX9TyOzXdVFPFNSwM+yctqGoQLu",
      "include_colab_link": true
    },
    "kernelspec": {
      "name": "python3",
      "display_name": "Python 3"
    },
    "language_info": {
      "name": "python"
    }
  },
  "cells": [
    {
      "cell_type": "markdown",
      "metadata": {
        "id": "view-in-github",
        "colab_type": "text"
      },
      "source": [
        "<a href=\"https://colab.research.google.com/github/git933/crawling/blob/main/03.ipynb\" target=\"_parent\"><img src=\"https://colab.research.google.com/assets/colab-badge.svg\" alt=\"Open In Colab\"/></a>"
      ]
    },
    {
      "cell_type": "markdown",
      "metadata": {
        "id": "9gWO6dfpopBU"
      },
      "source": [
        "데이터프레임 생성 후 다양한 방식으로 저장"
      ]
    },
    {
      "cell_type": "code",
      "metadata": {
        "id": "yx-0RgXdonWU"
      },
      "source": [
        "import pandas as pd\n",
        "\n",
        "# 표 (데이터프레임) 만들기\n",
        "no = []\n",
        "subject_name = []\n",
        "\n",
        "no.append(1)\n",
        "no.append(2)\n",
        "no.append(3)\n",
        "\n",
        "subject_name.append('수학')\n",
        "subject_name.append('과학')\n",
        "subject_name.append('빅데이터')\n",
        "\n",
        "subject = pd.DataFrame()\n",
        "subject['과목번호'] = no\n",
        "subject['과목명'] = subject_name\n",
        "print(subject)\n",
        "\n",
        "# csv 형식 저장\n",
        "subject.to_csv(\"C:/Users/tjs70/Desktop/crawling1\", encoding=\"utf-8-sig\", index=False)\n",
        "\n",
        "# xls 형식 저장\n",
        "subject.to_excel(\"C:/Users/tjs70/Desktop/crawling1\", index=False)"
      ],
      "execution_count": null,
      "outputs": []
    },
    {
      "cell_type": "markdown",
      "metadata": {
        "id": "ptVZ5ZadotCA"
      },
      "source": [
        "네이버 블로그 크롤링"
      ]
    },
    {
      "cell_type": "code",
      "metadata": {
        "id": "V6t2XlBKotX6"
      },
      "source": [
        "# 네이버 블로그 정보 수집하여 저장하기\n",
        "print(\"=\" * 80)\n",
        "print(\" 연습문제 : 저장할 내용을 목록으로 만들어서 xlsx , csv 형식으로 저장하기\")\n",
        "print(\"=\" * 80)\n",
        "\n",
        "# 라이브러리 로딩, 검색어 입력\n",
        "from bs4 import BeautifulSoup\n",
        "from selenium import webdriver\n",
        "import time\n",
        "import math\n",
        "import pandas as pd\n",
        "\n",
        "query_txt = input('1. 크롤링할 키워드는 무엇입니까? : ')\n",
        "cnt = int(input('2. 수집할 데이터는 몇 건입니까? : '))\n",
        "page_cnt = math.ceil(cnt / 30)  # 30건의 데이터가 한 페이지에 있음\n",
        "\n",
        "fc_name = input('3. csv 형태로 저장할 경로와 파일명을 확장자 포함해서 쓰세요 (예 : c:/temp/naver.csv) : ')\n",
        "fx_name = input('4. xlsx 형태로 저장할 경로와 파일명을 확장자 포함해서 쓰세요 (예 : c:/temp/naver.xlsx) : ')\n",
        "\n",
        "# 웹 브라우저 실행\n",
        "path = \"C:/Temp/chromedriver_win32/chromedriver.exe\"\n",
        "driver = webdriver.Chrome(path)\n",
        "\n",
        "driver.get('http://www.naver.com')\n",
        "time.sleep(2)\n",
        "\n",
        "# 검색 후 블로그 선택\n",
        "element = driver.find_element_by_id(\"query\")\n",
        "element.send_keys(query_txt)\n",
        "element.submit()\n",
        "\n",
        "driver.find_element_by_link_text(\"VIEW\").click()\n",
        "time.sleep(2)\n",
        "\n",
        "driver.find_element_by_link_text(\"블로그\").click()\n",
        "\n",
        "# 저장 목록을 만든 후 목록에 있는 내용을 파일에 저장\n",
        "no2 = []  # 게시글 번호\n",
        "title2 = []  # 게시물 제목\n",
        "contents2 = []  # 게시글 내용\n",
        "bdate2 = []  # 작성 일자\n",
        "nick2 = []  # 닉네임\n",
        "\n",
        "# 목록에 있는 내용을 파일에 저장\n",
        "no = 1\n",
        "\n",
        "# 자동 스크롤다운 함수\n",
        "def scroll_down(driver):\n",
        "    driver.execute_script(\"window.scrollTo(0,document.body.scrollHeight);\")\n",
        "    time.sleep(8)\n",
        "\n",
        "i = 1\n",
        "while (i <= page_cnt):\n",
        "    scroll_down(driver)\n",
        "    i += 1\n",
        "    print('%s 페이지 정보를 추출하고 있으니 잠시만 기다려 주세요.' % i)\n",
        "\n",
        "print(\"\\n\")\n",
        "\n",
        "html = driver.page_source\n",
        "soup = BeautifulSoup(html, 'html.parser')\n",
        "\n",
        "view_list = soup.find('ul', 'lst_total').find_all('li')\n",
        "\n",
        "for i in view_list:\n",
        "    no2.append(no)  # 게시물 번호 리스트에 추가\n",
        "    print('1. 번호 : ', no)\n",
        "\n",
        "    all_title = i.find_all('a')\n",
        "    title = all_title[2].get_text()  # 게시물 제목\n",
        "    title2.append(title)  # 게시물 제목 리스트에 추가\n",
        "    print('2. 제목 : ', title)\n",
        "\n",
        "    try:\n",
        "        contents = i.find('div', 'api_txt_lines dsc_txt').get_text()  # 게시물 내용\n",
        "    except:\n",
        "        contents = '본문 요약 내용이 없습니다'\n",
        "        contents2.append(contents)  # 게시물 내용 리스트에 추가\n",
        "        print('3. 요약 내용 : ', contents)\n",
        "    else:\n",
        "        contents2.append(contents)  # 게시물 내용 리스트에 추가\n",
        "        print('3. 요약 내용 : ', contents)\n",
        "\n",
        "    bdate = i.find('span', 'sub_time sub_txt').get_text()  # 작성 일자\n",
        "    bdate2.append(bdate)  # 작성 일자 리스트에 추가\n",
        "    print('4. 작성 일자 : ', bdate)\n",
        "\n",
        "    print(\"\\n\")\n",
        "\n",
        "    if no == cnt:\n",
        "        break\n",
        "\n",
        "    no += 1\n",
        "\n",
        "# 출력 결과를 표 형태로 만들기\n",
        "naver_blog = pd.DataFrame()\n",
        "naver_blog['번호'] = no2\n",
        "naver_blog['제목'] = title2\n",
        "naver_blog['요약내용'] = contents2\n",
        "naver_blog['작성일자'] = bdate2\n",
        "\n",
        "# csv 형태로 저장\n",
        "naver_blog.to_csv(fc_name, encoding=\"utf-8-sig\", index=False)\n",
        "print(\" csv 파일 저장 경로 : %s\" % fc_name)\n",
        "\n",
        "# 엑셀 형태로 저장\n",
        "naver_blog.to_excel(fx_name, index=False)\n",
        "print(\" xls 파일 저장 경로: %s\" % fx_name)"
      ],
      "execution_count": null,
      "outputs": []
    }
  ]
}