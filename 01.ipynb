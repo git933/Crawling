{
  "nbformat": 4,
  "nbformat_minor": 0,
  "metadata": {
    "colab": {
      "name": "01.ipynb",
      "provenance": [],
      "collapsed_sections": [],
      "authorship_tag": "ABX9TyOKRulB8u2/qgaBp2YKQxon",
      "include_colab_link": true
    },
    "kernelspec": {
      "name": "python3",
      "display_name": "Python 3"
    },
    "language_info": {
      "name": "python"
    }
  },
  "cells": [
    {
      "cell_type": "markdown",
      "metadata": {
        "id": "view-in-github",
        "colab_type": "text"
      },
      "source": [
        "<a href=\"https://colab.research.google.com/github/git933/crawling/blob/main/01.ipynb\" target=\"_parent\"><img src=\"https://colab.research.google.com/assets/colab-badge.svg\" alt=\"Open In Colab\"/></a>"
      ]
    },
    {
      "cell_type": "markdown",
      "metadata": {
        "id": "pn1xncX5aU6L"
      },
      "source": [
        "riss 검색"
      ]
    },
    {
      "cell_type": "code",
      "metadata": {
        "id": "qvsxTD4aaPXN"
      },
      "source": [
        "# riss.kr 에서 특정 키워드로 논문 / 학술 자료 검색하기\n",
        "\n",
        "# Step 1. 필요한 모듈을 로딩합니다\n",
        "from selenium import webdriver\n",
        "import time\n",
        "\n",
        "# Step 2. 사용자에게 검색 관련 정보들을 입력 받습니다.\n",
        "print(\"=\" * 100)\n",
        "print(\" 이 크롤러는 RISS 사이트의 논문 및 학술자료 수집용 웹크롤러입니다.\")\n",
        "print(\"=\" * 100)\n",
        "query_txt = input('1. 수집할 자료의 키워드는 무엇입니까?(여러개일 경우 , 로 구분하여 입력) : ')\n",
        "# query_txt = '해양자원,도시재생'\n",
        "print(\"\\n\")\n",
        "\n",
        "#Step 3. 크롬 드라이버 설정 및 웹 페이지 열기\n",
        "chrome_path = \"C:/Users/tjs70/Desktop/4-여름/데청캠/5_웹크롤러/chromedriver_win32/chromedriver.exe\"\n",
        "driver = webdriver.Chrome(chrome_path)\n",
        "\n",
        "url = 'http://www.riss.kr/'\n",
        "driver.get(url)\n",
        "time.sleep(2)\n",
        "\n",
        "#Step 4. 자동으로 검색어 입력 후 조회하기\n",
        "element = driver.find_element_by_id(\"query\")\n",
        "driver.find_element_by_id(\"query\").click( )\n",
        "element.send_keys(query_txt)\n",
        "element.send_keys(\"\\n\")"
      ],
      "execution_count": null,
      "outputs": []
    },
    {
      "cell_type": "markdown",
      "metadata": {
        "id": "RQSdwQOAaYd2"
      },
      "source": [
        "네이버 검색"
      ]
    },
    {
      "cell_type": "code",
      "metadata": {
        "id": "4Hq78xZeacZV"
      },
      "source": [
        "# naver.com 에서 특정 키워드 검색하기\n",
        "\n",
        "# 필요한 모듈 로딩\n",
        "from selenium import webdriver\n",
        "import time\n",
        "\n",
        "# 정보 입력받기\n",
        "print(\"-\" * 100)\n",
        "print(\" 이 크롤러는 네이버 검색 웹크롤러입니다.\")\n",
        "print(\"-\" * 100)\n",
        "query_txt = input('수집할 자료의 키워드는 무엇입니까? : ')\n",
        "\n",
        "print(\"\\n\")\n",
        "\n",
        "# 크롬 드라이버 설정 및 웹 페이지 열기\n",
        "chrome_path = \"C:/Temp/chromedriver_win32/chromedriver.exe\"\n",
        "driver = webdriver.Chrome(chrome_path)\n",
        "\n",
        "url = 'https://www.naver.com/'\n",
        "driver.get(url)\n",
        "time.sleep(2)\n",
        "\n",
        "# 자동으로 검색어 입력 후 조회\n",
        "element = driver.find_element_by_id(\"query\")\n",
        "driver.find_element_by_id(\"query\").click( )\n",
        "element.send_keys(query_txt)\n",
        "element.send_keys(\"\\n\")"
      ],
      "execution_count": null,
      "outputs": []
    },
    {
      "cell_type": "markdown",
      "metadata": {
        "id": "vJZlqy5sac7c"
      },
      "source": [
        "다음 검색"
      ]
    },
    {
      "cell_type": "code",
      "metadata": {
        "id": "pz8EzgAAaf1T"
      },
      "source": [
        "# https://www.daum.net/ 에서 특정 키워드 검색하기\n",
        "\n",
        "# 필요한 모듈 로딩\n",
        "from selenium import webdriver\n",
        "import time\n",
        "\n",
        "# 정보 입력받기\n",
        "print(\"-\" * 100)\n",
        "print(\" 이 크롤러는 다음 검색 웹크롤러입니다.\")\n",
        "print(\"-\" * 100)\n",
        "query_txt = input('수집할 자료의 키워드는 무엇입니까? : ')\n",
        "\n",
        "print(\"\\n\")\n",
        "\n",
        "# 크롬 드라이버 설정 및 웹 페이지 열기\n",
        "chrome_path = \"C:/Temp/chromedriver_win32/chromedriver.exe\"\n",
        "driver = webdriver.Chrome(chrome_path)\n",
        "\n",
        "url = 'https://www.daum.net/'\n",
        "driver.get(url)\n",
        "time.sleep(2)\n",
        "\n",
        "# 자동으로 검색어 입력 후 조회\n",
        "element = driver.find_element_by_id(\"q\")\n",
        "driver.find_element_by_id(\"q\").click( )\n",
        "element.send_keys(query_txt)\n",
        "element.send_keys(\"\\n\")"
      ],
      "execution_count": null,
      "outputs": []
    },
    {
      "cell_type": "markdown",
      "metadata": {
        "id": "ShHFhSACaglI"
      },
      "source": [
        "구글 검색"
      ]
    },
    {
      "cell_type": "code",
      "metadata": {
        "id": "XiR4-u2xaf5z"
      },
      "source": [
        "# https://www.google.co.kr/ 에서 특정 키워드 검색하기\n",
        "\n",
        "# 필요한 모듈 로딩\n",
        "from selenium import webdriver\n",
        "import time\n",
        "\n",
        "# 정보 입력받기\n",
        "print(\"-\" * 100)\n",
        "print(\" 이 크롤러는 구글 검색 웹크롤러입니다.\")\n",
        "print(\"-\" * 100)\n",
        "query_txt = input('수집할 자료의 키워드는 무엇입니까? : ')\n",
        "\n",
        "print(\"\\n\")\n",
        "\n",
        "# 크롬 드라이버 설정 및 웹 페이지 열기\n",
        "chrome_path = \"C:/Temp/chromedriver_win32/chromedriver.exe\"\n",
        "driver = webdriver.Chrome(chrome_path)\n",
        "\n",
        "url = 'https://www.google.co.kr/'\n",
        "driver.get(url)\n",
        "time.sleep(2)\n",
        "\n",
        "# 자동으로 검색어 입력 후 조회\n",
        "element = driver.find_element_by_xpath(\"/html/body/div[1]/div[3]/form/div[1]/div[1]/div[1]/div/div[2]/input\")\n",
        "driver.find_element_by_xpath(\"/html/body/div[1]/div[3]/form/div[1]/div[1]/div[1]/div/div[2]/input\").click( )\n",
        "element.send_keys(query_txt)\n",
        "element.send_keys(\"\\n\")"
      ],
      "execution_count": null,
      "outputs": []
    }
  ]
}