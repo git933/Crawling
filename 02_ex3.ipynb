{
  "nbformat": 4,
  "nbformat_minor": 0,
  "metadata": {
    "colab": {
      "name": "02.ipynb",
      "provenance": [],
      "collapsed_sections": [],
      "authorship_tag": "ABX9TyPXTidGeJq8hNTXUIo29t9L",
      "include_colab_link": true
    },
    "kernelspec": {
      "name": "python3",
      "display_name": "Python 3"
    },
    "language_info": {
      "name": "python"
    }
  },
  "cells": [
    {
      "cell_type": "markdown",
      "metadata": {
        "id": "view-in-github",
        "colab_type": "text"
      },
      "source": [
        "<a href=\"https://colab.research.google.com/github/git933/crawling/blob/main/02_ex3.ipynb\" target=\"_parent\"><img src=\"https://colab.research.google.com/assets/colab-badge.svg\" alt=\"Open In Colab\"/></a>"
      ]
    },
    {
      "cell_type": "markdown",
      "metadata": {
        "id": "1f8n6UJxk7Ab"
      },
      "source": [
        "어제의 인기검색어 저장"
      ]
    },
    {
      "cell_type": "code",
      "metadata": {
        "id": "Hf6pg4njbEFO"
      },
      "source": [
        "# 한국관광공사 사이트 크롤링\n",
        "\n",
        "# 모듈 로딩\n",
        "from selenium import webdriver\n",
        "import time\n",
        "\n",
        "print(\"=\" *100)\n",
        "print(\" 이 크롤러는 한국관광공사 사이트의 검색어 수집용 웹크롤러입니다.\")\n",
        "print(\"=\" *100)\n",
        "query_txt = input('1. 수집할 자료의 키워드는 무엇입니까? (여러 개일 경우 , 로 구분하여 입력) : ')\n",
        "print(\"\\n\")\n",
        "\n",
        "# 크롬 드라이버 설정 및 웹 페이지 열기\n",
        "chrome_path = \"C:/Temp/chromedriver_win32/chromedriver.exe\"\n",
        "driver = webdriver.Chrome(chrome_path)\n",
        "\n",
        "url = 'https://korean.visitkorea.or.kr/main/main.do#home'\n",
        "driver.get(url)\n",
        "time.sleep(2)\n",
        "\n",
        "# 자동으로 검색어 입력 후 조회\n",
        "#element = driver.find_element_by_xpath('//*[@id=\"openSearchFormInput\"]')\n",
        "driver.find_element_by_xpath('//*[@id=\"openSearchFormInput\"]').click( )\n",
        "\n",
        "element = driver.find_element_by_id(\"searchInput\")\n",
        "driver.find_element_by_id(\"searchInput\").click( )\n",
        "\n",
        "element.send_keys(query_txt)\n",
        "element.send_keys(\"\\n\")\n",
        "time.sleep(2)\n",
        "\n",
        "# Beautiful Soup 로 본문 내용만 추출하기\n",
        "from bs4 import BeautifulSoup\n",
        "html_1 = driver.page_source\n",
        "soup_1 = BeautifulSoup(html_1, 'html.parser')\n",
        "\n",
        "content_1 = soup_1.find('div','area_sWordList').find_all('li')\n",
        "for i in content_1 :\n",
        "    print(i.get_text().replace(\"\\n\",\" \").strip())\n",
        "    print(\"\\n\")\n",
        "\n",
        "# txt 파일에 저장\n",
        "import sys\n",
        "f_name = input('결과를 저장할 파일명을 쓰세요(예: c:\\\\temp\\\\riss.txt): ')\n",
        "\n",
        "orig_stdout = sys.stdout\n",
        "file = open(f_name , 'a' , encoding='UTF-8')\n",
        "sys.stdout = file  # file에 출력\n",
        "\n",
        "for i in content_1 :\n",
        "    print(i.get_text().replace(\"\\n\",\"\"))\n",
        "\n",
        "file.close()\n",
        "sys.stdout = orig_stdout  #원래대로 변경 - 다시 화면에 출력\n",
        "\n",
        "print('요청하신 데이터 수집 작업이 정상적으로 완료되었습니다')\n",
        "print('수집된 결과는 %s 에 저장되었습니다' %f_name)"
      ],
      "execution_count": null,
      "outputs": []
    }
  ]
}